{
  "nbformat": 4,
  "nbformat_minor": 0,
  "metadata": {
    "colab": {
      "provenance": []
    },
    "kernelspec": {
      "name": "python3",
      "display_name": "Python 3"
    },
    "language_info": {
      "name": "python"
    }
  },
  "cells": [
    {
      "cell_type": "code",
      "execution_count": 32,
      "metadata": {
        "id": "3f-vKWk4YS5T"
      },
      "outputs": [],
      "source": [
        "import pandas as pd\n",
        "import plotly.express as px"
      ]
    },
    {
      "cell_type": "code",
      "source": [
        "df_principal = pd.read_excel(\"/content/Resolução do Desafio - Imersão Python - Aula 01.xlsx\", sheet_name=\"Principal\")\n",
        "df_principal"
      ],
      "metadata": {
        "id": "_mffI-FAYaf1"
      },
      "execution_count": null,
      "outputs": []
    },
    {
      "cell_type": "code",
      "source": [
        "df_total_acoes = pd.read_excel(\"/content/Resolução do Desafio - Imersão Python - Aula 01.xlsx\", sheet_name=\"Total_de_acoes\")\n",
        "df_total_acoes"
      ],
      "metadata": {
        "id": "_ou9V-sAYe9k"
      },
      "execution_count": null,
      "outputs": []
    },
    {
      "cell_type": "code",
      "source": [
        "df_ticker = pd.read_excel(\"/content/Resolução do Desafio - Imersão Python - Aula 01.xlsx\", sheet_name=\"Ticker\")\n",
        "df_ticker"
      ],
      "metadata": {
        "id": "Zcnx2tsbYfiV"
      },
      "execution_count": null,
      "outputs": []
    },
    {
      "cell_type": "code",
      "source": [
        "df_chatgpt = pd.read_excel(\"/content/Resolução do Desafio - Imersão Python - Aula 01.xlsx\", sheet_name=\"Chatgpt\")\n",
        "df_chatgpt"
      ],
      "metadata": {
        "id": "FqeFbt8XYg5t"
      },
      "execution_count": null,
      "outputs": []
    },
    {
      "cell_type": "code",
      "source": [
        "df_principal = df_principal[['Ativo', 'Data', 'Último (R$)', 'Var. Dia (%)']].copy()\n",
        "df_principal"
      ],
      "metadata": {
        "id": "PfSxWeTEa1zR"
      },
      "execution_count": null,
      "outputs": []
    },
    {
      "cell_type": "code",
      "source": [
        "df_principal = df_principal.rename(columns={'Último (R$)':'valor_final', 'Var. Dia (%)':'var_dia_pct'}).copy()\n",
        "df_principal"
      ],
      "metadata": {
        "id": "B7DE0Bc9a5Zx"
      },
      "execution_count": null,
      "outputs": []
    },
    {
      "cell_type": "code",
      "source": [
        "df_principal['Var_pct'] = df_principal['var_dia_pct'] / 100\n",
        "df_principal['valor_inicial'] = df_principal['valor_final'] / (df_principal['Var_pct'] + 1)\n",
        "df_principal"
      ],
      "metadata": {
        "id": "-oXvWcoEdFSG"
      },
      "execution_count": null,
      "outputs": []
    },
    {
      "cell_type": "code",
      "source": [
        "df_principal = df_principal.merge(df_total_acoes, left_on='Ativo', right_on='Código', how='left')\n",
        "df_principal"
      ],
      "metadata": {
        "id": "3GHirHOyeo_M"
      },
      "execution_count": null,
      "outputs": []
    },
    {
      "cell_type": "code",
      "source": [
        "df_principal = df_principal.drop(columns=['Código'])\n",
        "df_principal"
      ],
      "metadata": {
        "id": "qR5cJlzkfek5"
      },
      "execution_count": null,
      "outputs": []
    },
    {
      "cell_type": "code",
      "source": [
        "df_principal['Variacao_rs'] = (df_principal['valor_final'] - df_principal['valor_inicial'])*df_principal['Qtde. Teórica']\n",
        "df_principal"
      ],
      "metadata": {
        "id": "I-0NXpTAgUyb"
      },
      "execution_count": null,
      "outputs": []
    },
    {
      "cell_type": "code",
      "source": [
        "pd.options.display.float_format = '{:.2f}'.format"
      ],
      "metadata": {
        "id": "wXCTs_xlhXfJ"
      },
      "execution_count": 15,
      "outputs": []
    },
    {
      "cell_type": "code",
      "source": [
        "df_principal['Qtde. Teórica'] = df_principal['Qtde. Teórica'].astype(int)\n",
        "df_principal"
      ],
      "metadata": {
        "id": "esLX3qJwhdEy"
      },
      "execution_count": null,
      "outputs": []
    },
    {
      "cell_type": "code",
      "source": [
        "df_principal = df_principal.rename(columns={'Qtde. Teórica':'Qtd_teorica'}).copy()\n",
        "df_principal"
      ],
      "metadata": {
        "id": "pIGjT1_6iXGS"
      },
      "execution_count": null,
      "outputs": []
    },
    {
      "cell_type": "code",
      "source": [
        "df_principal['Resultado'] = df_principal['Variacao_rs'].apply(lambda x: 'Subiu' if x > 0 else ('Desceu' if x < 0 else 'Estável'))\n",
        "df_principal"
      ],
      "metadata": {
        "id": "TE6lkxpgiaRC"
      },
      "execution_count": null,
      "outputs": []
    },
    {
      "cell_type": "code",
      "source": [
        "df_principal = df_principal.merge(df_ticker, left_on='Ativo', right_on='Ticker', how='left')\n",
        "df_principal = df_principal.drop(columns=['Ticker'])\n",
        "df_principal"
      ],
      "metadata": {
        "id": "iXey_rocidLQ"
      },
      "execution_count": null,
      "outputs": []
    },
    {
      "cell_type": "code",
      "source": [
        "df_principal = df_principal.merge(df_chatgpt, left_on='Nome', right_on='Nome da empresa', how='left')\n",
        "df_principal = df_principal.drop(columns=['Nome da empresa'])\n",
        "df_principal"
      ],
      "metadata": {
        "id": "F-qGNDeKifrw"
      },
      "execution_count": null,
      "outputs": []
    },
    {
      "cell_type": "code",
      "source": [
        "df_principal = df_principal.rename(columns={'Idade (fundação ou início de operações)':'Idade'}).copy()\n",
        "df_principal"
      ],
      "metadata": {
        "id": "wNpFid5ViiFJ"
      },
      "execution_count": null,
      "outputs": []
    },
    {
      "cell_type": "code",
      "source": [
        "df_principal = df_principal.rename(columns={'Idade (anos)':'Ano_de_fundacao'}).copy()\n",
        "df_principal"
      ],
      "metadata": {
        "id": "a-oVpVhkikSR"
      },
      "execution_count": null,
      "outputs": []
    },
    {
      "cell_type": "code",
      "source": [
        "df_principal['Cat_idade'] = df_principal['Ano_de_fundacao'].apply(lambda x: 'Mais de 100' if x > 100 else ('Menos de 50' if x < 50 else 'Entre 50 e 100'))\n",
        "df_principal"
      ],
      "metadata": {
        "id": "ZpQ_bhoTim-C"
      },
      "execution_count": null,
      "outputs": []
    },
    {
      "cell_type": "code",
      "source": [
        "# Calculando o maior valor\n",
        "maior = df_principal['Variacao_rs'].max()\n",
        "\n",
        "# Calculando o menor valor\n",
        "menor = df_principal['Variacao_rs'].min()\n",
        "\n",
        "# Calculando a média\n",
        "media = df_principal['Variacao_rs'].mean()\n",
        "\n",
        "# Calculando a média de quem subiu\n",
        "media_subiu = df_principal[df_principal['Resultado'] == 'Subiu']['Variacao_rs'].mean()\n",
        "\n",
        "# Calculando a média de quem desceu\n",
        "media_desceu = df_principal[df_principal['Resultado'] == 'Desceu']['Variacao_rs'].mean()\n",
        "\n",
        "# Imprimindo os resultados\n",
        "print(f\"Maior\\tR$ {maior:,.2f}\")\n",
        "print(f\"Menor\\tR$ {menor:,.2f}\")\n",
        "print(f\"Média\\tR$ {media:,.2f}\")\n",
        "print(f\"Média de quem subiu\\tR$ {media_subiu:,.2f}\")\n",
        "print(f\"Média de quem desceu\\tR$ {media_desceu:,.2f}\")"
      ],
      "metadata": {
        "colab": {
          "base_uri": "https://localhost:8080/"
        },
        "id": "jZUIEUVdirO1",
        "outputId": "07af47af-3be9-44bc-af5d-f58d5a7e744b"
      },
      "execution_count": 30,
      "outputs": [
        {
          "output_type": "stream",
          "name": "stdout",
          "text": [
            "Maior\tR$ 4,762,926,995.25\n",
            "Menor\tR$ -1,807,432,634.46\n",
            "Média\tR$ 218,008,898.33\n",
            "Média de quem subiu\tR$ 538,720,638.36\n",
            "Média de quem desceu\tR$ -186,265,310.46\n"
          ]
        }
      ]
    },
    {
      "cell_type": "code",
      "source": [
        "df_principal_subiu = df_principal[df_principal['Resultado'] == 'Subiu']\n",
        "df_principal_subiu"
      ],
      "metadata": {
        "id": "YyPRdJ99i5-L"
      },
      "execution_count": null,
      "outputs": []
    },
    {
      "cell_type": "code",
      "source": [
        "df_analise_segmento = df_principal_subiu.groupby('Segmento')['Variacao_rs'].sum().reset_index()\n",
        "df_analise_segmento"
      ],
      "metadata": {
        "id": "2eRc87x7i-c_"
      },
      "execution_count": null,
      "outputs": []
    },
    {
      "cell_type": "code",
      "source": [
        "df_analise_saldo = df_principal.groupby('Resultado')['Variacao_rs'].sum().reset_index()\n",
        "df_analise_saldo"
      ],
      "metadata": {
        "id": "YVZhZFRNjA7O"
      },
      "execution_count": null,
      "outputs": []
    },
    {
      "cell_type": "code",
      "source": [
        "fig = px.bar(df_analise_saldo, x='Resultado', y='Variacao_rs', text='Variacao_rs', title='Variação Reais por Resultado')\n",
        "fig.show()"
      ],
      "metadata": {
        "id": "BkPqqn6ujDYe"
      },
      "execution_count": null,
      "outputs": []
    }
  ]
}