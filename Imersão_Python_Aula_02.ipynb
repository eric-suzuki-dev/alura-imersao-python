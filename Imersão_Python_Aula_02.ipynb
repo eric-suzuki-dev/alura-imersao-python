{
  "nbformat": 4,
  "nbformat_minor": 0,
  "metadata": {
    "colab": {
      "provenance": []
    },
    "kernelspec": {
      "name": "python3",
      "display_name": "Python 3"
    },
    "language_info": {
      "name": "python"
    }
  },
  "cells": [
    {
      "cell_type": "code",
      "execution_count": null,
      "metadata": {
        "id": "gkhIoYUXL6AT"
      },
      "outputs": [],
      "source": [
        "import pandas as pd"
      ]
    },
    {
      "cell_type": "code",
      "source": [
        "df_principal = pd.read_excel(\"/content/Resolução do Desafio - Imersão Python - Aula 01.xlsx\", sheet_name=\"Principal\")\n",
        "df_principal"
      ],
      "metadata": {
        "id": "KP-KHT4KO_vf"
      },
      "execution_count": null,
      "outputs": []
    },
    {
      "cell_type": "code",
      "source": [
        "df_total_acoes = pd.read_excel(\"/content/Resolução do Desafio - Imersão Python - Aula 01.xlsx\", sheet_name=\"Total_de_acoes\")\n",
        "df_total_acoes"
      ],
      "metadata": {
        "id": "RYYp1w3kTGrj"
      },
      "execution_count": null,
      "outputs": []
    },
    {
      "cell_type": "code",
      "source": [
        "df_ticker = pd.read_excel(\"/content/Resolução do Desafio - Imersão Python - Aula 01.xlsx\", sheet_name=\"Ticker\")\n",
        "df_ticker"
      ],
      "metadata": {
        "id": "iY1YM_Y-TJBG"
      },
      "execution_count": null,
      "outputs": []
    },
    {
      "cell_type": "code",
      "source": [
        "df_chatgpt = pd.read_excel(\"/content/Resolução do Desafio - Imersão Python - Aula 01.xlsx\", sheet_name=\"Chatgpt\")\n",
        "df_chatgpt"
      ],
      "metadata": {
        "id": "AViFKWTvTKso"
      },
      "execution_count": null,
      "outputs": []
    }
  ]
}